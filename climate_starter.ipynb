{
 "cells": [
  {
   "cell_type": "code",
   "execution_count": 1,
   "source": [
    "%matplotlib inline\r\n",
    "from matplotlib import style\r\n",
    "style.use('fivethirtyeight')\r\n",
    "import matplotlib.pyplot as plt\r\n",
    "import matplotlib.dates as mdates\r\n",
    "from matplotlib.dates import DateFormatter"
   ],
   "outputs": [],
   "metadata": {}
  },
  {
   "cell_type": "code",
   "execution_count": 2,
   "source": [
    "import numpy as np\r\n",
    "import pandas as pd\r\n",
    "import datetime as dt\r\n",
    "from numpy import mean"
   ],
   "outputs": [],
   "metadata": {}
  },
  {
   "cell_type": "markdown",
   "source": [
    "# Reflect Tables into SQLAlchemy ORM"
   ],
   "metadata": {}
  },
  {
   "cell_type": "code",
   "execution_count": 3,
   "source": [
    "# Python SQL toolkit and Object Relational Mapper\r\n",
    "import sqlalchemy\r\n",
    "from sqlalchemy.ext.automap import automap_base\r\n",
    "from sqlalchemy.orm import Session\r\n",
    "from sqlalchemy import create_engine, func"
   ],
   "outputs": [],
   "metadata": {}
  },
  {
   "cell_type": "code",
   "execution_count": 4,
   "source": [
    "# create engine to hawaii.sqlite\r\n",
    "engine = create_engine(\"sqlite:///Resources/hawaii.sqlite\")"
   ],
   "outputs": [],
   "metadata": {}
  },
  {
   "cell_type": "code",
   "execution_count": 5,
   "source": [
    "# reflect an existing database into a new model\r\n",
    "Base = automap_base()\r\n",
    "# reflect the tables\r\n",
    "Base.prepare(engine, reflect=True)"
   ],
   "outputs": [],
   "metadata": {}
  },
  {
   "cell_type": "code",
   "execution_count": 6,
   "source": [
    "# View all of the classes that automap found\r\n",
    "Base.classes.keys()"
   ],
   "outputs": [
    {
     "output_type": "execute_result",
     "data": {
      "text/plain": [
       "['measurement', 'station']"
      ]
     },
     "metadata": {},
     "execution_count": 6
    }
   ],
   "metadata": {}
  },
  {
   "cell_type": "code",
   "execution_count": 7,
   "source": [
    "# Save references to each table\r\n",
    "Station = Base.classes.station\r\n",
    "Measurement = Base.classes.measurement"
   ],
   "outputs": [],
   "metadata": {}
  },
  {
   "cell_type": "code",
   "execution_count": 8,
   "source": [
    "# Create our session (link) from Python to the DB\r\n",
    "session = Session(engine)"
   ],
   "outputs": [],
   "metadata": {}
  },
  {
   "cell_type": "markdown",
   "source": [
    "# Exploratory Precipitation Analysis"
   ],
   "metadata": {}
  },
  {
   "cell_type": "code",
   "execution_count": 9,
   "source": [
    "# Find the most recent date in the data set.\r\n",
    "first_row = session.query(Measurement).first()\r\n",
    "first_row.__dict__\r\n",
    "\r\n",
    "#Latest Date\r\n",
    "session.query(Measurement.date).order_by(Measurement.date.desc()).first()\r\n",
    "\r\n"
   ],
   "outputs": [
    {
     "output_type": "execute_result",
     "data": {
      "text/plain": [
       "('2017-08-23',)"
      ]
     },
     "metadata": {},
     "execution_count": 9
    }
   ],
   "metadata": {}
  },
  {
   "cell_type": "code",
   "execution_count": 10,
   "source": [
    "# Design a query to retrieve the last 12 months of precipitation data and plot the results. \r\n",
    "# Starting from the most recent data point in the database. \r\n",
    "date = dt.datetime(2017,8,23)\r\n",
    "# Calculate the date one year from the last date in data set.\r\n",
    "New_Date = date - dt.timedelta(days=365)\r\n",
    "New_Date\r\n",
    "\r\n",
    "# Perform a query to retrieve the data and precipitation scores\r\n",
    "results = session.query(Measurement.date, Measurement.prcp).\\\r\n",
    "    filter(Measurement.date > '2016-08-23)').\\\r\n",
    "    order_by(Measurement.date).all()\r\n",
    "\r\n",
    "# Save the query results as a Pandas DataFrame and set the index to the date column\r\n",
    "results_df = pd.DataFrame(results)\r\n",
    "results_df.rename(columns={0:'date',1:'prcp'}, inplace=True)\r\n",
    "results_df = results_df.reindex(['date','prcp'], axis='columns', fill_value = 0)\r\n",
    "results_df\r\n",
    "\r\n",
    "# Sort the dataframe by date\r\n",
    "\r\n",
    "\r\n",
    "# Use Pandas Plotting with Matplotlib to plot the data\r\n",
    "dates = results_df['date']\r\n",
    "precipitation = results_df['prcp']\r\n",
    "\r\n",
    "\r\n",
    "fig, ax = plt.subplots(figsize=(12, 9))\r\n",
    "ax.bar(dates,\r\n",
    "       precipitation,\r\n",
    "       color = \"blue\",\r\n",
    "       width=4)\r\n",
    "ax.set(xlabel=\"Date\",\r\n",
    "       ylabel=\"Precipitation\",\r\n",
    "       title=\"Precipitation in Hawaii 8-23-2016 to 8-23-2017\")\r\n",
    "       #xlim=['2016-08-23','2017-08-23'])\r\n",
    "# ax.xaxis.set_major_locator(mdates.MonthLocator())\r\n",
    "# date_form = mdates.DateFormatter(\"%m-%d\")\r\n",
    "# ax.xaxis.set_major_formatter(date_form)\r\n",
    "\r\n",
    "# Major ticks every 6 months.\r\n",
    "fmt_half_year = mdates.MonthLocator(interval=6)\r\n",
    "ax.xaxis.set_major_locator(fmt_half_year)\r\n",
    "\r\n",
    "# Minor ticks every month.\r\n",
    "fmt_month = mdates.MonthLocator()\r\n",
    "ax.xaxis.set_minor_locator(fmt_month)\r\n",
    "\r\n",
    "# Text in the x axis will be displayed in 'YYYY-mm' format.\r\n",
    "ax.xaxis.set_major_formatter(mdates.DateFormatter('%Y-%m'))\r\n",
    "\r\n",
    "# Round to nearest years.\r\n",
    "\r\n",
    "# Format the coords message box, i.e. the numbers displayed as the cursor moves\r\n",
    "# across the axes within the interactive GUI.\r\n",
    "ax.format_xdata = mdates.DateFormatter('%Y-%m')\r\n",
    "ax.format_ydata = lambda x: f'${x:.2f}'  # Format the price.\r\n",
    "ax.grid(True)\r\n",
    "\r\n",
    "# Rotates and right aligns the x labels, and moves the bottom of the\r\n",
    "# axes up to make room for them.\r\n",
    "fig.autofmt_xdate()\r\n",
    "\r\n",
    "plt.show()\r\n",
    "\r\n"
   ],
   "outputs": [
    {
     "output_type": "display_data",
     "data": {
      "text/plain": [
       "<Figure size 864x648 with 1 Axes>"
      ],
      "image/png": "[encoded data removed]"
     },
     "metadata": {}
    }
   ],
   "metadata": {}
  },
  {
   "cell_type": "code",
   "execution_count": null,
   "source": [],
   "outputs": [],
   "metadata": {}
  },
  {
   "cell_type": "code",
   "execution_count": 11,
   "source": [
    "# Use Pandas to calcualte the summary statistics for the precipitation data\r\n",
    "results_df.describe()"
   ],
   "outputs": [
    {
     "output_type": "execute_result",
     "data": {
      "text/plain": [
       "              prcp\n",
       "count  2015.000000\n",
       "mean      0.176462\n",
       "std       0.460288\n",
       "min       0.000000\n",
       "25%       0.000000\n",
       "50%       0.020000\n",
       "75%       0.130000\n",
       "max       6.700000"
      ],
      "text/html": [
       "<div>\n",
       "<style scoped>\n",
       "    .dataframe tbody tr th:only-of-type {\n",
       "        vertical-align: middle;\n",
       "    }\n",
       "\n",
       "    .dataframe tbody tr th {\n",
       "        vertical-align: top;\n",
       "    }\n",
       "\n",
       "    .dataframe thead th {\n",
       "        text-align: right;\n",
       "    }\n",
       "</style>\n",
       "<table border=\"1\" class=\"dataframe\">\n",
       "  <thead>\n",
       "    <tr style=\"text-align: right;\">\n",
       "      <th></th>\n",
       "      <th>prcp</th>\n",
       "    </tr>\n",
       "  </thead>\n",
       "  <tbody>\n",
       "    <tr>\n",
       "      <th>count</th>\n",
       "      <td>2015.000000</td>\n",
       "    </tr>\n",
       "    <tr>\n",
       "      <th>mean</th>\n",
       "      <td>0.176462</td>\n",
       "    </tr>\n",
       "    <tr>\n",
       "      <th>std</th>\n",
       "      <td>0.460288</td>\n",
       "    </tr>\n",
       "    <tr>\n",
       "      <th>min</th>\n",
       "      <td>0.000000</td>\n",
       "    </tr>\n",
       "    <tr>\n",
       "      <th>25%</th>\n",
       "      <td>0.000000</td>\n",
       "    </tr>\n",
       "    <tr>\n",
       "      <th>50%</th>\n",
       "      <td>0.020000</td>\n",
       "    </tr>\n",
       "    <tr>\n",
       "      <th>75%</th>\n",
       "      <td>0.130000</td>\n",
       "    </tr>\n",
       "    <tr>\n",
       "      <th>max</th>\n",
       "      <td>6.700000</td>\n",
       "    </tr>\n",
       "  </tbody>\n",
       "</table>\n",
       "</div>"
      ]
     },
     "metadata": {},
     "execution_count": 11
    }
   ],
   "metadata": {}
  },
  {
   "cell_type": "markdown",
   "source": [
    "# Exploratory Station Analysis"
   ],
   "metadata": {}
  },
  {
   "cell_type": "code",
   "execution_count": 12,
   "source": [
    "# Design a query to calculate the total number stations in the dataset\r\n",
    "first_row = session.query(Measurement).first()\r\n",
    "first_row.__dict__\r\n",
    "\r\n",
    "station_count = session.query(Measurement.station).\\\r\n",
    "    group_by(Measurement.station).count()\r\n",
    "station_count"
   ],
   "outputs": [
    {
     "output_type": "execute_result",
     "data": {
      "text/plain": [
       "9"
      ]
     },
     "metadata": {},
     "execution_count": 12
    }
   ],
   "metadata": {}
  },
  {
   "cell_type": "code",
   "execution_count": 13,
   "source": [
    "# Design a query to find the most active stations (i.e. what stations have the most rows?)\r\n",
    "# List the stations and the counts in descending order.\r\n",
    "count_ = func.count(Measurement.station)\r\n",
    "\r\n",
    "active_stations = session.query(Measurement.station, count_).\\\r\n",
    "    group_by(Measurement.station).\\\r\n",
    "    order_by(count_.desc()).all()\r\n",
    "active_stations\r\n"
   ],
   "outputs": [
    {
     "output_type": "execute_result",
     "data": {
      "text/plain": [
       "[('USC00519281', 2772),\n",
       " ('USC00519397', 2724),\n",
       " ('USC00513117', 2709),\n",
       " ('USC00519523', 2669),\n",
       " ('USC00516128', 2612),\n",
       " ('USC00514830', 2202),\n",
       " ('USC00511918', 1979),\n",
       " ('USC00517948', 1372),\n",
       " ('USC00518838', 511)]"
      ]
     },
     "metadata": {},
     "execution_count": 13
    }
   ],
   "metadata": {}
  },
  {
   "cell_type": "code",
   "execution_count": 14,
   "source": [
    "# Using the most active station id from the previous query, calculate the lowest, highest, and average temperature.\r\n",
    "most_active_station = 'USC00519281'\r\n",
    "low_temp = session.query(func.min(Measurement.tobs)).\\\r\n",
    "    filter_by(station = most_active_station).all()\r\n",
    "low_temp\r\n",
    "\r\n",
    "temps = session.query(Measurement.tobs).\\\r\n",
    "    filter_by(station=most_active_station).all()\r\n",
    "mean(temps)\r\n",
    "\r\n",
    "max_temp = session.query(func.max(Measurement.tobs)).\\\r\n",
    "    filter_by(station=most_active_station).all()\r\n",
    "max_temp\r\n",
    "\r\n",
    "\r\n",
    "\r\n"
   ],
   "outputs": [
    {
     "output_type": "execute_result",
     "data": {
      "text/plain": [
       "[(85.0,)]"
      ]
     },
     "metadata": {},
     "execution_count": 14
    }
   ],
   "metadata": {}
  },
  {
   "cell_type": "code",
   "execution_count": 15,
   "source": [
    "# Using the most active station id\r\n",
    "# Query the last 12 months of temperature observation data for this station and plot the results as a histogram\r\n",
    "session.query(Measurement.date).\\\r\n",
    "    filter_by(station=most_active_station).\\\r\n",
    "    order_by(Measurement.date.desc()).first()\r\n",
    "\r\n",
    "date = dt.datetime(2017,8,18)\r\n",
    "# Calculate the date one year from the last date in data set.\r\n",
    "New_Date = date - dt.timedelta(days=365)\r\n",
    "New_Date\r\n",
    "\r\n",
    "# Perform a query to retrieve the date and temperature scores\r\n",
    "results = session.query(Measurement.tobs).\\\r\n",
    "    filter_by(station=most_active_station).\\\r\n",
    "    filter(Measurement.date > '2016-08-17').\\\r\n",
    "    order_by(Measurement.date).all()\r\n",
    "\r\n",
    "results_df = pd.DataFrame(results)    \r\n",
    "results_df.hist(bins=np.arange(60,85,2))\r\n",
    "plt.ylabel(\"counts\")\r\n",
    "plt.xlabel(\"temperature (F)\")\r\n",
    "plt.title(\"temperature readings at most popular station for most recent year\")\r\n"
   ],
   "outputs": [
    {
     "output_type": "execute_result",
     "data": {
      "text/plain": [
       "Text(0.5, 1.0, 'temperature readings at most popular station for most recent year')"
      ]
     },
     "metadata": {},
     "execution_count": 15
    },
    {
     "output_type": "display_data",
     "data": {
      "text/plain": [
       "<Figure size 432x288 with 1 Axes>"
      ],
      "image/png": "[encoded data removed]"
     },
     "metadata": {}
    }
   ],
   "metadata": {}
  },
  {
   "cell_type": "markdown",
   "source": [
    "# Close session"
   ],
   "metadata": {}
  },
  {
   "cell_type": "code",
   "execution_count": 18,
   "source": [
    "session.query(Station.name).all()"
   ],
   "outputs": [
    {
     "output_type": "execute_result",
     "data": {
      "text/plain": [
       "[('WAIKIKI 717.2, HI US',),\n",
       " ('KANEOHE 838.1, HI US',),\n",
       " ('KUALOA RANCH HEADQUARTERS 886.9, HI US',),\n",
       " ('PEARL CITY, HI US',),\n",
       " ('UPPER WAHIAWA 874.3, HI US',),\n",
       " ('WAIMANALO EXPERIMENTAL FARM, HI US',),\n",
       " ('WAIHEE 837.5, HI US',),\n",
       " ('HONOLULU OBSERVATORY 702.2, HI US',),\n",
       " ('MANOA LYON ARBO 785.2, HI US',)]"
      ]
     },
     "metadata": {},
     "execution_count": 18
    }
   ],
   "metadata": {}
  },
  {
   "cell_type": "code",
   "execution_count": 16,
   "source": [
    "# Close Session\r\n",
    "session.close()"
   ],
   "outputs": [],
   "metadata": {}
  },
  {
   "cell_type": "code",
   "execution_count": null,
   "source": [],
   "outputs": [],
   "metadata": {}
  }
 ],
 "metadata": {
  "anaconda-cloud": {},
  "interpreter": {
   "hash": "2f3a706b34eb0ea9bbb028628723f5cd93895146db5a4b3f252e9288b7f6741a"
  },
  "kernel_info": {
   "name": "python3"
  },
  "kernelspec": {
   "name": "python3",
   "display_name": "Python 3.6.10 64-bit ('PythonData': conda)"
  },
  "language_info": {
   "codemirror_mode": {
    "name": "ipython",
    "version": 3
   },
   "file_extension": ".py",
   "mimetype": "text/x-python",
   "name": "python",
   "nbconvert_exporter": "python",
   "pygments_lexer": "ipython3",
   "version": "3.6.10"
  },
  "nteract": {
   "version": "0.12.3"
  },
  "varInspector": {
   "cols": {
    "lenName": 16,
    "lenType": 16,
    "lenVar": 40
   },
   "kernels_config": {
    "python": {
     "delete_cmd_postfix": "",
     "delete_cmd_prefix": "del ",
     "library": "var_list.py",
     "varRefreshCmd": "print(var_dic_list())"
    },
    "r": {
     "delete_cmd_postfix": ") ",
     "delete_cmd_prefix": "rm(",
     "library": "var_list.r",
     "varRefreshCmd": "cat(var_dic_list()) "
    }
   },
   "types_to_exclude": [
    "module",
    "function",
    "builtin_function_or_method",
    "instance",
    "_Feature"
   ],
   "window_display": false
  }
 },
 "nbformat": 4,
 "nbformat_minor": 2
}